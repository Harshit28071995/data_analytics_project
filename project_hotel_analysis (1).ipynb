{
 "cells": [
  {
   "cell_type": "markdown",
   "id": "0b6d0b59-8a95-49a6-87bf-563183da0ceb",
   "metadata": {},
   "source": [
    "## Hotel Data Analytics"
   ]
  },
  {
   "cell_type": "markdown",
   "id": "29faa4ee-0abd-479c-b22e-30b709ec1e13",
   "metadata": {},
   "source": [
    "### Data Exploration"
   ]
  },
  {
   "cell_type": "code",
   "execution_count": 1,
   "id": "90e4e2ad-401e-4202-bb77-000635f5469b",
   "metadata": {},
   "outputs": [],
   "source": [
    "import pandas as pd"
   ]
  },
  {
   "cell_type": "code",
   "execution_count": 3,
   "id": "300628e9-e72a-45a4-bbeb-804712afce64",
   "metadata": {},
   "outputs": [],
   "source": [
    "df_bookings=pd.read_csv(\"C:/Users/harsh/Downloads/64101194a2364/source-code/3_project_hospitality_analysis/datasets/fact_bookings.csv\")"
   ]
  },
  {
   "cell_type": "code",
   "execution_count": 9,
   "id": "ae7d36b8-3088-484c-9e9a-2a6933e3b1a6",
   "metadata": {},
   "outputs": [
    {
     "data": {
      "text/html": [
       "<div>\n",
       "<style scoped>\n",
       "    .dataframe tbody tr th:only-of-type {\n",
       "        vertical-align: middle;\n",
       "    }\n",
       "\n",
       "    .dataframe tbody tr th {\n",
       "        vertical-align: top;\n",
       "    }\n",
       "\n",
       "    .dataframe thead th {\n",
       "        text-align: right;\n",
       "    }\n",
       "</style>\n",
       "<table border=\"1\" class=\"dataframe\">\n",
       "  <thead>\n",
       "    <tr style=\"text-align: right;\">\n",
       "      <th></th>\n",
       "      <th>booking_id</th>\n",
       "      <th>property_id</th>\n",
       "      <th>booking_date</th>\n",
       "      <th>check_in_date</th>\n",
       "      <th>checkout_date</th>\n",
       "      <th>no_guests</th>\n",
       "      <th>room_category</th>\n",
       "      <th>booking_platform</th>\n",
       "      <th>ratings_given</th>\n",
       "      <th>booking_status</th>\n",
       "      <th>revenue_generated</th>\n",
       "      <th>revenue_realized</th>\n",
       "    </tr>\n",
       "  </thead>\n",
       "  <tbody>\n",
       "    <tr>\n",
       "      <th>0</th>\n",
       "      <td>May012216558RT11</td>\n",
       "      <td>16558</td>\n",
       "      <td>27-04-22</td>\n",
       "      <td>1/5/2022</td>\n",
       "      <td>2/5/2022</td>\n",
       "      <td>-3.0</td>\n",
       "      <td>RT1</td>\n",
       "      <td>direct online</td>\n",
       "      <td>1.0</td>\n",
       "      <td>Checked Out</td>\n",
       "      <td>10010</td>\n",
       "      <td>10010</td>\n",
       "    </tr>\n",
       "    <tr>\n",
       "      <th>1</th>\n",
       "      <td>May012216558RT12</td>\n",
       "      <td>16558</td>\n",
       "      <td>30-04-22</td>\n",
       "      <td>1/5/2022</td>\n",
       "      <td>2/5/2022</td>\n",
       "      <td>2.0</td>\n",
       "      <td>RT1</td>\n",
       "      <td>others</td>\n",
       "      <td>NaN</td>\n",
       "      <td>Cancelled</td>\n",
       "      <td>9100</td>\n",
       "      <td>3640</td>\n",
       "    </tr>\n",
       "    <tr>\n",
       "      <th>2</th>\n",
       "      <td>May012216558RT13</td>\n",
       "      <td>16558</td>\n",
       "      <td>28-04-22</td>\n",
       "      <td>1/5/2022</td>\n",
       "      <td>4/5/2022</td>\n",
       "      <td>2.0</td>\n",
       "      <td>RT1</td>\n",
       "      <td>logtrip</td>\n",
       "      <td>5.0</td>\n",
       "      <td>Checked Out</td>\n",
       "      <td>9100000</td>\n",
       "      <td>9100</td>\n",
       "    </tr>\n",
       "    <tr>\n",
       "      <th>3</th>\n",
       "      <td>May012216558RT14</td>\n",
       "      <td>16558</td>\n",
       "      <td>28-04-22</td>\n",
       "      <td>1/5/2022</td>\n",
       "      <td>2/5/2022</td>\n",
       "      <td>-2.0</td>\n",
       "      <td>RT1</td>\n",
       "      <td>others</td>\n",
       "      <td>NaN</td>\n",
       "      <td>Cancelled</td>\n",
       "      <td>9100</td>\n",
       "      <td>3640</td>\n",
       "    </tr>\n",
       "  </tbody>\n",
       "</table>\n",
       "</div>"
      ],
      "text/plain": [
       "         booking_id  property_id booking_date check_in_date checkout_date  \\\n",
       "0  May012216558RT11        16558     27-04-22      1/5/2022      2/5/2022   \n",
       "1  May012216558RT12        16558     30-04-22      1/5/2022      2/5/2022   \n",
       "2  May012216558RT13        16558     28-04-22      1/5/2022      4/5/2022   \n",
       "3  May012216558RT14        16558     28-04-22      1/5/2022      2/5/2022   \n",
       "\n",
       "   no_guests room_category booking_platform  ratings_given booking_status  \\\n",
       "0       -3.0           RT1    direct online            1.0    Checked Out   \n",
       "1        2.0           RT1           others            NaN      Cancelled   \n",
       "2        2.0           RT1          logtrip            5.0    Checked Out   \n",
       "3       -2.0           RT1           others            NaN      Cancelled   \n",
       "\n",
       "   revenue_generated  revenue_realized  \n",
       "0              10010             10010  \n",
       "1               9100              3640  \n",
       "2            9100000              9100  \n",
       "3               9100              3640  "
      ]
     },
     "execution_count": 9,
     "metadata": {},
     "output_type": "execute_result"
    }
   ],
   "source": [
    "df_bookings.head(4)"
   ]
  },
  {
   "cell_type": "code",
   "execution_count": 5,
   "id": "a023ee0c-83cc-4a14-b513-105628e31950",
   "metadata": {},
   "outputs": [
    {
     "data": {
      "text/plain": [
       "(134590, 12)"
      ]
     },
     "execution_count": 5,
     "metadata": {},
     "output_type": "execute_result"
    }
   ],
   "source": [
    "df_bookings.shape"
   ]
  },
  {
   "cell_type": "code",
   "execution_count": 7,
   "id": "76d515fd-2e51-47d5-b9a7-56e6fac34f23",
   "metadata": {},
   "outputs": [
    {
     "data": {
      "text/plain": [
       "array(['RT1', 'RT2', 'RT3', 'RT4'], dtype=object)"
      ]
     },
     "execution_count": 7,
     "metadata": {},
     "output_type": "execute_result"
    }
   ],
   "source": [
    "df_bookings.room_category.unique()"
   ]
  },
  {
   "cell_type": "code",
   "execution_count": 8,
   "id": "ad789a16-fe3f-429f-8068-fa514b2f83a9",
   "metadata": {},
   "outputs": [
    {
     "data": {
      "text/plain": [
       "array(['direct online', 'others', 'logtrip', 'tripster', 'makeyourtrip',\n",
       "       'journey', 'direct offline'], dtype=object)"
      ]
     },
     "execution_count": 8,
     "metadata": {},
     "output_type": "execute_result"
    }
   ],
   "source": [
    "df_bookings.booking_platform.unique()"
   ]
  },
  {
   "cell_type": "code",
   "execution_count": 12,
   "id": "3fb67074-e252-48e2-a2e2-086bca521f09",
   "metadata": {},
   "outputs": [
    {
     "data": {
      "text/plain": [
       "booking_platform\n",
       "others            55066\n",
       "makeyourtrip      26898\n",
       "logtrip           14756\n",
       "direct online     13379\n",
       "tripster           9630\n",
       "journey            8106\n",
       "direct offline     6755\n",
       "Name: count, dtype: int64"
      ]
     },
     "execution_count": 12,
     "metadata": {},
     "output_type": "execute_result"
    }
   ],
   "source": [
    "df_bookings.booking_platform.value_counts()"
   ]
  },
  {
   "cell_type": "code",
   "execution_count": 21,
   "id": "389bfc39-92be-44f7-8ca9-ab90061e7be9",
   "metadata": {},
   "outputs": [
    {
     "data": {
      "text/html": [
       "<div>\n",
       "<style scoped>\n",
       "    .dataframe tbody tr th:only-of-type {\n",
       "        vertical-align: middle;\n",
       "    }\n",
       "\n",
       "    .dataframe tbody tr th {\n",
       "        vertical-align: top;\n",
       "    }\n",
       "\n",
       "    .dataframe thead th {\n",
       "        text-align: right;\n",
       "    }\n",
       "</style>\n",
       "<table border=\"1\" class=\"dataframe\">\n",
       "  <thead>\n",
       "    <tr style=\"text-align: right;\">\n",
       "      <th></th>\n",
       "      <th>property_id</th>\n",
       "      <th>no_guests</th>\n",
       "      <th>ratings_given</th>\n",
       "      <th>revenue_generated</th>\n",
       "      <th>revenue_realized</th>\n",
       "    </tr>\n",
       "  </thead>\n",
       "  <tbody>\n",
       "    <tr>\n",
       "      <th>count</th>\n",
       "      <td>134590.000000</td>\n",
       "      <td>134587.000000</td>\n",
       "      <td>56683.000000</td>\n",
       "      <td>1.345900e+05</td>\n",
       "      <td>134590.000000</td>\n",
       "    </tr>\n",
       "    <tr>\n",
       "      <th>mean</th>\n",
       "      <td>18061.113493</td>\n",
       "      <td>2.036170</td>\n",
       "      <td>3.619004</td>\n",
       "      <td>1.537805e+04</td>\n",
       "      <td>12696.123256</td>\n",
       "    </tr>\n",
       "    <tr>\n",
       "      <th>std</th>\n",
       "      <td>1093.055847</td>\n",
       "      <td>1.034885</td>\n",
       "      <td>1.235009</td>\n",
       "      <td>9.303604e+04</td>\n",
       "      <td>6928.108124</td>\n",
       "    </tr>\n",
       "    <tr>\n",
       "      <th>min</th>\n",
       "      <td>16558.000000</td>\n",
       "      <td>-17.000000</td>\n",
       "      <td>1.000000</td>\n",
       "      <td>6.500000e+03</td>\n",
       "      <td>2600.000000</td>\n",
       "    </tr>\n",
       "    <tr>\n",
       "      <th>25%</th>\n",
       "      <td>17558.000000</td>\n",
       "      <td>1.000000</td>\n",
       "      <td>3.000000</td>\n",
       "      <td>9.900000e+03</td>\n",
       "      <td>7600.000000</td>\n",
       "    </tr>\n",
       "    <tr>\n",
       "      <th>50%</th>\n",
       "      <td>17564.000000</td>\n",
       "      <td>2.000000</td>\n",
       "      <td>4.000000</td>\n",
       "      <td>1.350000e+04</td>\n",
       "      <td>11700.000000</td>\n",
       "    </tr>\n",
       "    <tr>\n",
       "      <th>75%</th>\n",
       "      <td>18563.000000</td>\n",
       "      <td>2.000000</td>\n",
       "      <td>5.000000</td>\n",
       "      <td>1.800000e+04</td>\n",
       "      <td>15300.000000</td>\n",
       "    </tr>\n",
       "    <tr>\n",
       "      <th>max</th>\n",
       "      <td>19563.000000</td>\n",
       "      <td>6.000000</td>\n",
       "      <td>5.000000</td>\n",
       "      <td>2.856000e+07</td>\n",
       "      <td>45220.000000</td>\n",
       "    </tr>\n",
       "  </tbody>\n",
       "</table>\n",
       "</div>"
      ],
      "text/plain": [
       "         property_id      no_guests  ratings_given  revenue_generated  \\\n",
       "count  134590.000000  134587.000000   56683.000000       1.345900e+05   \n",
       "mean    18061.113493       2.036170       3.619004       1.537805e+04   \n",
       "std      1093.055847       1.034885       1.235009       9.303604e+04   \n",
       "min     16558.000000     -17.000000       1.000000       6.500000e+03   \n",
       "25%     17558.000000       1.000000       3.000000       9.900000e+03   \n",
       "50%     17564.000000       2.000000       4.000000       1.350000e+04   \n",
       "75%     18563.000000       2.000000       5.000000       1.800000e+04   \n",
       "max     19563.000000       6.000000       5.000000       2.856000e+07   \n",
       "\n",
       "       revenue_realized  \n",
       "count     134590.000000  \n",
       "mean       12696.123256  \n",
       "std         6928.108124  \n",
       "min         2600.000000  \n",
       "25%         7600.000000  \n",
       "50%        11700.000000  \n",
       "75%        15300.000000  \n",
       "max        45220.000000  "
      ]
     },
     "execution_count": 21,
     "metadata": {},
     "output_type": "execute_result"
    }
   ],
   "source": [
    "df_bookings.describe()"
   ]
  },
  {
   "cell_type": "code",
   "execution_count": 22,
   "id": "7bfd211b-9438-4c0e-a68c-4e59e5c6ec62",
   "metadata": {},
   "outputs": [],
   "source": [
    "df_date=pd.read_csv(\"C:/Users/harsh/Downloads/64101194a2364/source-code/3_project_hospitality_analysis/datasets/dim_date.csv\")\n",
    "df_hotels=pd.read_csv(\"C:/Users/harsh/Downloads/64101194a2364/source-code/3_project_hospitality_analysis/datasets/dim_hotels.csv\")\n",
    "df_rooms=pd.read_csv(\"C:/Users/harsh/Downloads/64101194a2364/source-code/3_project_hospitality_analysis/datasets/dim_rooms.csv\")\n",
    "df_agg_bookings=pd.read_csv(\"C:/Users/harsh/Downloads/64101194a2364/source-code/3_project_hospitality_analysis/datasets/fact_aggregated_bookings.csv\")"
   ]
  },
  {
   "cell_type": "code",
   "execution_count": 23,
   "id": "5c037d85-ec12-4066-a70d-738d3207b78f",
   "metadata": {},
   "outputs": [
    {
     "data": {
      "text/plain": [
       "(25, 4)"
      ]
     },
     "execution_count": 23,
     "metadata": {},
     "output_type": "execute_result"
    }
   ],
   "source": [
    "df_hotels.shape"
   ]
  },
  {
   "cell_type": "code",
   "execution_count": 24,
   "id": "4d2d8f71-697a-465c-b1d3-aec4880fe1a7",
   "metadata": {},
   "outputs": [
    {
     "data": {
      "text/html": [
       "<div>\n",
       "<style scoped>\n",
       "    .dataframe tbody tr th:only-of-type {\n",
       "        vertical-align: middle;\n",
       "    }\n",
       "\n",
       "    .dataframe tbody tr th {\n",
       "        vertical-align: top;\n",
       "    }\n",
       "\n",
       "    .dataframe thead th {\n",
       "        text-align: right;\n",
       "    }\n",
       "</style>\n",
       "<table border=\"1\" class=\"dataframe\">\n",
       "  <thead>\n",
       "    <tr style=\"text-align: right;\">\n",
       "      <th></th>\n",
       "      <th>property_id</th>\n",
       "      <th>property_name</th>\n",
       "      <th>category</th>\n",
       "      <th>city</th>\n",
       "    </tr>\n",
       "  </thead>\n",
       "  <tbody>\n",
       "    <tr>\n",
       "      <th>0</th>\n",
       "      <td>16558</td>\n",
       "      <td>Atliq Grands</td>\n",
       "      <td>Luxury</td>\n",
       "      <td>Delhi</td>\n",
       "    </tr>\n",
       "    <tr>\n",
       "      <th>1</th>\n",
       "      <td>16559</td>\n",
       "      <td>Atliq Exotica</td>\n",
       "      <td>Luxury</td>\n",
       "      <td>Mumbai</td>\n",
       "    </tr>\n",
       "    <tr>\n",
       "      <th>2</th>\n",
       "      <td>16560</td>\n",
       "      <td>Atliq City</td>\n",
       "      <td>Business</td>\n",
       "      <td>Delhi</td>\n",
       "    </tr>\n",
       "    <tr>\n",
       "      <th>3</th>\n",
       "      <td>16561</td>\n",
       "      <td>Atliq Blu</td>\n",
       "      <td>Luxury</td>\n",
       "      <td>Delhi</td>\n",
       "    </tr>\n",
       "  </tbody>\n",
       "</table>\n",
       "</div>"
      ],
      "text/plain": [
       "   property_id  property_name  category    city\n",
       "0        16558   Atliq Grands    Luxury   Delhi\n",
       "1        16559  Atliq Exotica    Luxury  Mumbai\n",
       "2        16560     Atliq City  Business   Delhi\n",
       "3        16561      Atliq Blu    Luxury   Delhi"
      ]
     },
     "execution_count": 24,
     "metadata": {},
     "output_type": "execute_result"
    }
   ],
   "source": [
    "df_hotels.head(4)"
   ]
  },
  {
   "cell_type": "code",
   "execution_count": 25,
   "id": "88ee3359-5866-48b3-a20e-840d2a1e8e40",
   "metadata": {},
   "outputs": [
    {
     "data": {
      "text/plain": [
       "category\n",
       "Luxury      16\n",
       "Business     9\n",
       "Name: count, dtype: int64"
      ]
     },
     "execution_count": 25,
     "metadata": {},
     "output_type": "execute_result"
    }
   ],
   "source": [
    "df_hotels.category.value_counts()"
   ]
  },
  {
   "cell_type": "code",
   "execution_count": 29,
   "id": "df8dca4b-c6da-42ba-8582-a0866223964d",
   "metadata": {},
   "outputs": [
    {
     "data": {
      "text/plain": [
       "city\n",
       "Delhi        5\n",
       "Hyderabad    6\n",
       "Bangalore    6\n",
       "Mumbai       8\n",
       "Name: count, dtype: int64"
      ]
     },
     "execution_count": 29,
     "metadata": {},
     "output_type": "execute_result"
    }
   ],
   "source": [
    "df_hotels.city.value_counts().sort_values()"
   ]
  },
  {
   "cell_type": "markdown",
   "id": "d362ead3-51e7-4e7e-9fd8-0794794d8815",
   "metadata": {},
   "source": [
    "## conclusion: Mumbai has highest number of hotels\n"
   ]
  },
  {
   "cell_type": "code",
   "execution_count": 31,
   "id": "56729748-2af9-4b88-9dca-151e5cfa6524",
   "metadata": {},
   "outputs": [
    {
     "data": {
      "text/html": [
       "<div>\n",
       "<style scoped>\n",
       "    .dataframe tbody tr th:only-of-type {\n",
       "        vertical-align: middle;\n",
       "    }\n",
       "\n",
       "    .dataframe tbody tr th {\n",
       "        vertical-align: top;\n",
       "    }\n",
       "\n",
       "    .dataframe thead th {\n",
       "        text-align: right;\n",
       "    }\n",
       "</style>\n",
       "<table border=\"1\" class=\"dataframe\">\n",
       "  <thead>\n",
       "    <tr style=\"text-align: right;\">\n",
       "      <th></th>\n",
       "      <th>property_id</th>\n",
       "      <th>check_in_date</th>\n",
       "      <th>room_category</th>\n",
       "      <th>successful_bookings</th>\n",
       "      <th>capacity</th>\n",
       "    </tr>\n",
       "  </thead>\n",
       "  <tbody>\n",
       "    <tr>\n",
       "      <th>0</th>\n",
       "      <td>16559</td>\n",
       "      <td>1-May-22</td>\n",
       "      <td>RT1</td>\n",
       "      <td>25</td>\n",
       "      <td>30.0</td>\n",
       "    </tr>\n",
       "    <tr>\n",
       "      <th>1</th>\n",
       "      <td>19562</td>\n",
       "      <td>1-May-22</td>\n",
       "      <td>RT1</td>\n",
       "      <td>28</td>\n",
       "      <td>30.0</td>\n",
       "    </tr>\n",
       "    <tr>\n",
       "      <th>2</th>\n",
       "      <td>19563</td>\n",
       "      <td>1-May-22</td>\n",
       "      <td>RT1</td>\n",
       "      <td>23</td>\n",
       "      <td>30.0</td>\n",
       "    </tr>\n",
       "    <tr>\n",
       "      <th>3</th>\n",
       "      <td>17558</td>\n",
       "      <td>1-May-22</td>\n",
       "      <td>RT1</td>\n",
       "      <td>30</td>\n",
       "      <td>19.0</td>\n",
       "    </tr>\n",
       "  </tbody>\n",
       "</table>\n",
       "</div>"
      ],
      "text/plain": [
       "   property_id check_in_date room_category  successful_bookings  capacity\n",
       "0        16559      1-May-22           RT1                   25      30.0\n",
       "1        19562      1-May-22           RT1                   28      30.0\n",
       "2        19563      1-May-22           RT1                   23      30.0\n",
       "3        17558      1-May-22           RT1                   30      19.0"
      ]
     },
     "execution_count": 31,
     "metadata": {},
     "output_type": "execute_result"
    }
   ],
   "source": [
    "df_agg_bookings.head(4)"
   ]
  },
  {
   "cell_type": "markdown",
   "id": "03ab217c-4f3e-4f80-80f0-3c20ac165175",
   "metadata": {},
   "source": [
    "#### unique property ids in aggregate booking dataset"
   ]
  },
  {
   "cell_type": "code",
   "execution_count": 33,
   "id": "10968bb8-fd4a-4fe1-b1ee-a00896e77806",
   "metadata": {},
   "outputs": [
    {
     "data": {
      "text/plain": [
       "array([16559, 19562, 19563, 17558, 16558, 17560, 19558, 19560, 17561,\n",
       "       16560, 16561, 16562, 16563, 17559, 17562, 17563, 18558, 18559,\n",
       "       18561, 18562, 18563, 19559, 19561, 17564, 18560], dtype=int64)"
      ]
     },
     "execution_count": 33,
     "metadata": {},
     "output_type": "execute_result"
    }
   ],
   "source": [
    "df_agg_bookings.property_id.unique()"
   ]
  },
  {
   "cell_type": "markdown",
   "id": "cb4040ee-5b46-4482-999f-51973cd62d6c",
   "metadata": {},
   "source": [
    "## Data Cleaning"
   ]
  },
  {
   "cell_type": "code",
   "execution_count": 35,
   "id": "2493ace5-7d15-46af-afe2-9155e763a311",
   "metadata": {},
   "outputs": [
    {
     "data": {
      "text/html": [
       "<div>\n",
       "<style scoped>\n",
       "    .dataframe tbody tr th:only-of-type {\n",
       "        vertical-align: middle;\n",
       "    }\n",
       "\n",
       "    .dataframe tbody tr th {\n",
       "        vertical-align: top;\n",
       "    }\n",
       "\n",
       "    .dataframe thead th {\n",
       "        text-align: right;\n",
       "    }\n",
       "</style>\n",
       "<table border=\"1\" class=\"dataframe\">\n",
       "  <thead>\n",
       "    <tr style=\"text-align: right;\">\n",
       "      <th></th>\n",
       "      <th>property_id</th>\n",
       "      <th>no_guests</th>\n",
       "      <th>ratings_given</th>\n",
       "      <th>revenue_generated</th>\n",
       "      <th>revenue_realized</th>\n",
       "    </tr>\n",
       "  </thead>\n",
       "  <tbody>\n",
       "    <tr>\n",
       "      <th>count</th>\n",
       "      <td>134590.000000</td>\n",
       "      <td>134587.000000</td>\n",
       "      <td>56683.000000</td>\n",
       "      <td>1.345900e+05</td>\n",
       "      <td>134590.000000</td>\n",
       "    </tr>\n",
       "    <tr>\n",
       "      <th>mean</th>\n",
       "      <td>18061.113493</td>\n",
       "      <td>2.036170</td>\n",
       "      <td>3.619004</td>\n",
       "      <td>1.537805e+04</td>\n",
       "      <td>12696.123256</td>\n",
       "    </tr>\n",
       "    <tr>\n",
       "      <th>std</th>\n",
       "      <td>1093.055847</td>\n",
       "      <td>1.034885</td>\n",
       "      <td>1.235009</td>\n",
       "      <td>9.303604e+04</td>\n",
       "      <td>6928.108124</td>\n",
       "    </tr>\n",
       "    <tr>\n",
       "      <th>min</th>\n",
       "      <td>16558.000000</td>\n",
       "      <td>-17.000000</td>\n",
       "      <td>1.000000</td>\n",
       "      <td>6.500000e+03</td>\n",
       "      <td>2600.000000</td>\n",
       "    </tr>\n",
       "    <tr>\n",
       "      <th>25%</th>\n",
       "      <td>17558.000000</td>\n",
       "      <td>1.000000</td>\n",
       "      <td>3.000000</td>\n",
       "      <td>9.900000e+03</td>\n",
       "      <td>7600.000000</td>\n",
       "    </tr>\n",
       "    <tr>\n",
       "      <th>50%</th>\n",
       "      <td>17564.000000</td>\n",
       "      <td>2.000000</td>\n",
       "      <td>4.000000</td>\n",
       "      <td>1.350000e+04</td>\n",
       "      <td>11700.000000</td>\n",
       "    </tr>\n",
       "    <tr>\n",
       "      <th>75%</th>\n",
       "      <td>18563.000000</td>\n",
       "      <td>2.000000</td>\n",
       "      <td>5.000000</td>\n",
       "      <td>1.800000e+04</td>\n",
       "      <td>15300.000000</td>\n",
       "    </tr>\n",
       "    <tr>\n",
       "      <th>max</th>\n",
       "      <td>19563.000000</td>\n",
       "      <td>6.000000</td>\n",
       "      <td>5.000000</td>\n",
       "      <td>2.856000e+07</td>\n",
       "      <td>45220.000000</td>\n",
       "    </tr>\n",
       "  </tbody>\n",
       "</table>\n",
       "</div>"
      ],
      "text/plain": [
       "         property_id      no_guests  ratings_given  revenue_generated  \\\n",
       "count  134590.000000  134587.000000   56683.000000       1.345900e+05   \n",
       "mean    18061.113493       2.036170       3.619004       1.537805e+04   \n",
       "std      1093.055847       1.034885       1.235009       9.303604e+04   \n",
       "min     16558.000000     -17.000000       1.000000       6.500000e+03   \n",
       "25%     17558.000000       1.000000       3.000000       9.900000e+03   \n",
       "50%     17564.000000       2.000000       4.000000       1.350000e+04   \n",
       "75%     18563.000000       2.000000       5.000000       1.800000e+04   \n",
       "max     19563.000000       6.000000       5.000000       2.856000e+07   \n",
       "\n",
       "       revenue_realized  \n",
       "count     134590.000000  \n",
       "mean       12696.123256  \n",
       "std         6928.108124  \n",
       "min         2600.000000  \n",
       "25%         7600.000000  \n",
       "50%        11700.000000  \n",
       "75%        15300.000000  \n",
       "max        45220.000000  "
      ]
     },
     "execution_count": 35,
     "metadata": {},
     "output_type": "execute_result"
    }
   ],
   "source": [
    "df_bookings.describe()"
   ]
  },
  {
   "cell_type": "markdown",
   "id": "fe1d8a5d-8b83-4028-a004-79bbf99bbc6d",
   "metadata": {},
   "source": [
    "#### We found that our data shows negative number of guests which is not possible, so data cleaning is required"
   ]
  },
  {
   "cell_type": "code",
   "execution_count": 36,
   "id": "c10b96e2-a58e-4cda-b7f1-facbf84970d4",
   "metadata": {},
   "outputs": [
    {
     "data": {
      "text/html": [
       "<div>\n",
       "<style scoped>\n",
       "    .dataframe tbody tr th:only-of-type {\n",
       "        vertical-align: middle;\n",
       "    }\n",
       "\n",
       "    .dataframe tbody tr th {\n",
       "        vertical-align: top;\n",
       "    }\n",
       "\n",
       "    .dataframe thead th {\n",
       "        text-align: right;\n",
       "    }\n",
       "</style>\n",
       "<table border=\"1\" class=\"dataframe\">\n",
       "  <thead>\n",
       "    <tr style=\"text-align: right;\">\n",
       "      <th></th>\n",
       "      <th>booking_id</th>\n",
       "      <th>property_id</th>\n",
       "      <th>booking_date</th>\n",
       "      <th>check_in_date</th>\n",
       "      <th>checkout_date</th>\n",
       "      <th>no_guests</th>\n",
       "      <th>room_category</th>\n",
       "      <th>booking_platform</th>\n",
       "      <th>ratings_given</th>\n",
       "      <th>booking_status</th>\n",
       "      <th>revenue_generated</th>\n",
       "      <th>revenue_realized</th>\n",
       "    </tr>\n",
       "  </thead>\n",
       "  <tbody>\n",
       "    <tr>\n",
       "      <th>0</th>\n",
       "      <td>May012216558RT11</td>\n",
       "      <td>16558</td>\n",
       "      <td>27-04-22</td>\n",
       "      <td>1/5/2022</td>\n",
       "      <td>2/5/2022</td>\n",
       "      <td>-3.0</td>\n",
       "      <td>RT1</td>\n",
       "      <td>direct online</td>\n",
       "      <td>1.0</td>\n",
       "      <td>Checked Out</td>\n",
       "      <td>10010</td>\n",
       "      <td>10010</td>\n",
       "    </tr>\n",
       "    <tr>\n",
       "      <th>3</th>\n",
       "      <td>May012216558RT14</td>\n",
       "      <td>16558</td>\n",
       "      <td>28-04-22</td>\n",
       "      <td>1/5/2022</td>\n",
       "      <td>2/5/2022</td>\n",
       "      <td>-2.0</td>\n",
       "      <td>RT1</td>\n",
       "      <td>others</td>\n",
       "      <td>NaN</td>\n",
       "      <td>Cancelled</td>\n",
       "      <td>9100</td>\n",
       "      <td>3640</td>\n",
       "    </tr>\n",
       "    <tr>\n",
       "      <th>17924</th>\n",
       "      <td>May122218559RT44</td>\n",
       "      <td>18559</td>\n",
       "      <td>12/5/2022</td>\n",
       "      <td>12/5/2022</td>\n",
       "      <td>14-05-22</td>\n",
       "      <td>-10.0</td>\n",
       "      <td>RT4</td>\n",
       "      <td>direct online</td>\n",
       "      <td>NaN</td>\n",
       "      <td>No Show</td>\n",
       "      <td>20900</td>\n",
       "      <td>20900</td>\n",
       "    </tr>\n",
       "    <tr>\n",
       "      <th>18020</th>\n",
       "      <td>May122218561RT22</td>\n",
       "      <td>18561</td>\n",
       "      <td>8/5/2022</td>\n",
       "      <td>12/5/2022</td>\n",
       "      <td>14-05-22</td>\n",
       "      <td>-12.0</td>\n",
       "      <td>RT2</td>\n",
       "      <td>makeyourtrip</td>\n",
       "      <td>NaN</td>\n",
       "      <td>Cancelled</td>\n",
       "      <td>9000</td>\n",
       "      <td>3600</td>\n",
       "    </tr>\n",
       "    <tr>\n",
       "      <th>18119</th>\n",
       "      <td>May122218562RT311</td>\n",
       "      <td>18562</td>\n",
       "      <td>5/5/2022</td>\n",
       "      <td>12/5/2022</td>\n",
       "      <td>17-05-22</td>\n",
       "      <td>-6.0</td>\n",
       "      <td>RT3</td>\n",
       "      <td>direct offline</td>\n",
       "      <td>5.0</td>\n",
       "      <td>Checked Out</td>\n",
       "      <td>16800</td>\n",
       "      <td>16800</td>\n",
       "    </tr>\n",
       "    <tr>\n",
       "      <th>18121</th>\n",
       "      <td>May122218562RT313</td>\n",
       "      <td>18562</td>\n",
       "      <td>10/5/2022</td>\n",
       "      <td>12/5/2022</td>\n",
       "      <td>17-05-22</td>\n",
       "      <td>-4.0</td>\n",
       "      <td>RT3</td>\n",
       "      <td>direct online</td>\n",
       "      <td>NaN</td>\n",
       "      <td>Cancelled</td>\n",
       "      <td>14400</td>\n",
       "      <td>5760</td>\n",
       "    </tr>\n",
       "    <tr>\n",
       "      <th>56715</th>\n",
       "      <td>Jun082218562RT12</td>\n",
       "      <td>18562</td>\n",
       "      <td>5/6/2022</td>\n",
       "      <td>8/6/2022</td>\n",
       "      <td>13-06-22</td>\n",
       "      <td>-17.0</td>\n",
       "      <td>RT1</td>\n",
       "      <td>others</td>\n",
       "      <td>NaN</td>\n",
       "      <td>Checked Out</td>\n",
       "      <td>6500</td>\n",
       "      <td>6500</td>\n",
       "    </tr>\n",
       "    <tr>\n",
       "      <th>119765</th>\n",
       "      <td>Jul202219560RT220</td>\n",
       "      <td>19560</td>\n",
       "      <td>19-07-22</td>\n",
       "      <td>20-07-22</td>\n",
       "      <td>22-07-22</td>\n",
       "      <td>-1.0</td>\n",
       "      <td>RT2</td>\n",
       "      <td>others</td>\n",
       "      <td>NaN</td>\n",
       "      <td>Checked Out</td>\n",
       "      <td>13500</td>\n",
       "      <td>13500</td>\n",
       "    </tr>\n",
       "    <tr>\n",
       "      <th>134586</th>\n",
       "      <td>Jul312217564RT47</td>\n",
       "      <td>17564</td>\n",
       "      <td>30-07-22</td>\n",
       "      <td>31-07-22</td>\n",
       "      <td>1/8/2022</td>\n",
       "      <td>-4.0</td>\n",
       "      <td>RT4</td>\n",
       "      <td>logtrip</td>\n",
       "      <td>2.0</td>\n",
       "      <td>Checked Out</td>\n",
       "      <td>38760</td>\n",
       "      <td>38760</td>\n",
       "    </tr>\n",
       "  </tbody>\n",
       "</table>\n",
       "</div>"
      ],
      "text/plain": [
       "               booking_id  property_id booking_date check_in_date  \\\n",
       "0        May012216558RT11        16558     27-04-22      1/5/2022   \n",
       "3        May012216558RT14        16558     28-04-22      1/5/2022   \n",
       "17924    May122218559RT44        18559    12/5/2022     12/5/2022   \n",
       "18020    May122218561RT22        18561     8/5/2022     12/5/2022   \n",
       "18119   May122218562RT311        18562     5/5/2022     12/5/2022   \n",
       "18121   May122218562RT313        18562    10/5/2022     12/5/2022   \n",
       "56715    Jun082218562RT12        18562     5/6/2022      8/6/2022   \n",
       "119765  Jul202219560RT220        19560     19-07-22      20-07-22   \n",
       "134586   Jul312217564RT47        17564     30-07-22      31-07-22   \n",
       "\n",
       "       checkout_date  no_guests room_category booking_platform  ratings_given  \\\n",
       "0           2/5/2022       -3.0           RT1    direct online            1.0   \n",
       "3           2/5/2022       -2.0           RT1           others            NaN   \n",
       "17924       14-05-22      -10.0           RT4    direct online            NaN   \n",
       "18020       14-05-22      -12.0           RT2     makeyourtrip            NaN   \n",
       "18119       17-05-22       -6.0           RT3   direct offline            5.0   \n",
       "18121       17-05-22       -4.0           RT3    direct online            NaN   \n",
       "56715       13-06-22      -17.0           RT1           others            NaN   \n",
       "119765      22-07-22       -1.0           RT2           others            NaN   \n",
       "134586      1/8/2022       -4.0           RT4          logtrip            2.0   \n",
       "\n",
       "       booking_status  revenue_generated  revenue_realized  \n",
       "0         Checked Out              10010             10010  \n",
       "3           Cancelled               9100              3640  \n",
       "17924         No Show              20900             20900  \n",
       "18020       Cancelled               9000              3600  \n",
       "18119     Checked Out              16800             16800  \n",
       "18121       Cancelled              14400              5760  \n",
       "56715     Checked Out               6500              6500  \n",
       "119765    Checked Out              13500             13500  \n",
       "134586    Checked Out              38760             38760  "
      ]
     },
     "execution_count": 36,
     "metadata": {},
     "output_type": "execute_result"
    }
   ],
   "source": [
    "df_bookings[df_bookings.no_guests<0]"
   ]
  },
  {
   "cell_type": "markdown",
   "id": "f8d8cec2-a2be-4ce0-a0cb-bf21d841943c",
   "metadata": {},
   "source": [
    "### it is required to correct our data by connecting to our data engineering team but also it is required that we perform our analysis , so we can remove these rows as compared to our required data, this wrong datqa is small in number"
   ]
  },
  {
   "cell_type": "code",
   "execution_count": 38,
   "id": "5d95e6e7-a985-4d11-aba2-5a00cbac7424",
   "metadata": {},
   "outputs": [
    {
     "data": {
      "text/html": [
       "<div>\n",
       "<style scoped>\n",
       "    .dataframe tbody tr th:only-of-type {\n",
       "        vertical-align: middle;\n",
       "    }\n",
       "\n",
       "    .dataframe tbody tr th {\n",
       "        vertical-align: top;\n",
       "    }\n",
       "\n",
       "    .dataframe thead th {\n",
       "        text-align: right;\n",
       "    }\n",
       "</style>\n",
       "<table border=\"1\" class=\"dataframe\">\n",
       "  <thead>\n",
       "    <tr style=\"text-align: right;\">\n",
       "      <th></th>\n",
       "      <th>booking_id</th>\n",
       "      <th>property_id</th>\n",
       "      <th>booking_date</th>\n",
       "      <th>check_in_date</th>\n",
       "      <th>checkout_date</th>\n",
       "      <th>no_guests</th>\n",
       "      <th>room_category</th>\n",
       "      <th>booking_platform</th>\n",
       "      <th>ratings_given</th>\n",
       "      <th>booking_status</th>\n",
       "      <th>revenue_generated</th>\n",
       "      <th>revenue_realized</th>\n",
       "    </tr>\n",
       "  </thead>\n",
       "  <tbody>\n",
       "    <tr>\n",
       "      <th>1</th>\n",
       "      <td>May012216558RT12</td>\n",
       "      <td>16558</td>\n",
       "      <td>30-04-22</td>\n",
       "      <td>1/5/2022</td>\n",
       "      <td>2/5/2022</td>\n",
       "      <td>2.0</td>\n",
       "      <td>RT1</td>\n",
       "      <td>others</td>\n",
       "      <td>NaN</td>\n",
       "      <td>Cancelled</td>\n",
       "      <td>9100</td>\n",
       "      <td>3640</td>\n",
       "    </tr>\n",
       "    <tr>\n",
       "      <th>2</th>\n",
       "      <td>May012216558RT13</td>\n",
       "      <td>16558</td>\n",
       "      <td>28-04-22</td>\n",
       "      <td>1/5/2022</td>\n",
       "      <td>4/5/2022</td>\n",
       "      <td>2.0</td>\n",
       "      <td>RT1</td>\n",
       "      <td>logtrip</td>\n",
       "      <td>5.0</td>\n",
       "      <td>Checked Out</td>\n",
       "      <td>9100000</td>\n",
       "      <td>9100</td>\n",
       "    </tr>\n",
       "    <tr>\n",
       "      <th>4</th>\n",
       "      <td>May012216558RT15</td>\n",
       "      <td>16558</td>\n",
       "      <td>27-04-22</td>\n",
       "      <td>1/5/2022</td>\n",
       "      <td>2/5/2022</td>\n",
       "      <td>4.0</td>\n",
       "      <td>RT1</td>\n",
       "      <td>direct online</td>\n",
       "      <td>5.0</td>\n",
       "      <td>Checked Out</td>\n",
       "      <td>10920</td>\n",
       "      <td>10920</td>\n",
       "    </tr>\n",
       "    <tr>\n",
       "      <th>5</th>\n",
       "      <td>May012216558RT16</td>\n",
       "      <td>16558</td>\n",
       "      <td>1/5/2022</td>\n",
       "      <td>1/5/2022</td>\n",
       "      <td>3/5/2022</td>\n",
       "      <td>2.0</td>\n",
       "      <td>RT1</td>\n",
       "      <td>others</td>\n",
       "      <td>4.0</td>\n",
       "      <td>Checked Out</td>\n",
       "      <td>9100</td>\n",
       "      <td>9100</td>\n",
       "    </tr>\n",
       "    <tr>\n",
       "      <th>6</th>\n",
       "      <td>May012216558RT17</td>\n",
       "      <td>16558</td>\n",
       "      <td>28-04-22</td>\n",
       "      <td>1/5/2022</td>\n",
       "      <td>6/5/2022</td>\n",
       "      <td>2.0</td>\n",
       "      <td>RT1</td>\n",
       "      <td>others</td>\n",
       "      <td>NaN</td>\n",
       "      <td>Cancelled</td>\n",
       "      <td>9100</td>\n",
       "      <td>3640</td>\n",
       "    </tr>\n",
       "    <tr>\n",
       "      <th>...</th>\n",
       "      <td>...</td>\n",
       "      <td>...</td>\n",
       "      <td>...</td>\n",
       "      <td>...</td>\n",
       "      <td>...</td>\n",
       "      <td>...</td>\n",
       "      <td>...</td>\n",
       "      <td>...</td>\n",
       "      <td>...</td>\n",
       "      <td>...</td>\n",
       "      <td>...</td>\n",
       "      <td>...</td>\n",
       "    </tr>\n",
       "    <tr>\n",
       "      <th>134584</th>\n",
       "      <td>Jul312217564RT45</td>\n",
       "      <td>17564</td>\n",
       "      <td>30-07-22</td>\n",
       "      <td>31-07-22</td>\n",
       "      <td>1/8/2022</td>\n",
       "      <td>2.0</td>\n",
       "      <td>RT4</td>\n",
       "      <td>others</td>\n",
       "      <td>2.0</td>\n",
       "      <td>Checked Out</td>\n",
       "      <td>32300</td>\n",
       "      <td>32300</td>\n",
       "    </tr>\n",
       "    <tr>\n",
       "      <th>134585</th>\n",
       "      <td>Jul312217564RT46</td>\n",
       "      <td>17564</td>\n",
       "      <td>29-07-22</td>\n",
       "      <td>31-07-22</td>\n",
       "      <td>3/8/2022</td>\n",
       "      <td>1.0</td>\n",
       "      <td>RT4</td>\n",
       "      <td>makeyourtrip</td>\n",
       "      <td>2.0</td>\n",
       "      <td>Checked Out</td>\n",
       "      <td>32300</td>\n",
       "      <td>32300</td>\n",
       "    </tr>\n",
       "    <tr>\n",
       "      <th>134587</th>\n",
       "      <td>Jul312217564RT48</td>\n",
       "      <td>17564</td>\n",
       "      <td>30-07-22</td>\n",
       "      <td>31-07-22</td>\n",
       "      <td>2/8/2022</td>\n",
       "      <td>1.0</td>\n",
       "      <td>RT4</td>\n",
       "      <td>tripster</td>\n",
       "      <td>NaN</td>\n",
       "      <td>Cancelled</td>\n",
       "      <td>32300</td>\n",
       "      <td>12920</td>\n",
       "    </tr>\n",
       "    <tr>\n",
       "      <th>134588</th>\n",
       "      <td>Jul312217564RT49</td>\n",
       "      <td>17564</td>\n",
       "      <td>29-07-22</td>\n",
       "      <td>31-07-22</td>\n",
       "      <td>1/8/2022</td>\n",
       "      <td>2.0</td>\n",
       "      <td>RT4</td>\n",
       "      <td>logtrip</td>\n",
       "      <td>2.0</td>\n",
       "      <td>Checked Out</td>\n",
       "      <td>32300</td>\n",
       "      <td>32300</td>\n",
       "    </tr>\n",
       "    <tr>\n",
       "      <th>134589</th>\n",
       "      <td>Jul312217564RT410</td>\n",
       "      <td>17564</td>\n",
       "      <td>31-07-22</td>\n",
       "      <td>31-07-22</td>\n",
       "      <td>1/8/2022</td>\n",
       "      <td>2.0</td>\n",
       "      <td>RT4</td>\n",
       "      <td>makeyourtrip</td>\n",
       "      <td>NaN</td>\n",
       "      <td>Cancelled</td>\n",
       "      <td>32300</td>\n",
       "      <td>12920</td>\n",
       "    </tr>\n",
       "  </tbody>\n",
       "</table>\n",
       "<p>134578 rows × 12 columns</p>\n",
       "</div>"
      ],
      "text/plain": [
       "               booking_id  property_id booking_date check_in_date  \\\n",
       "1        May012216558RT12        16558     30-04-22      1/5/2022   \n",
       "2        May012216558RT13        16558     28-04-22      1/5/2022   \n",
       "4        May012216558RT15        16558     27-04-22      1/5/2022   \n",
       "5        May012216558RT16        16558     1/5/2022      1/5/2022   \n",
       "6        May012216558RT17        16558     28-04-22      1/5/2022   \n",
       "...                   ...          ...          ...           ...   \n",
       "134584   Jul312217564RT45        17564     30-07-22      31-07-22   \n",
       "134585   Jul312217564RT46        17564     29-07-22      31-07-22   \n",
       "134587   Jul312217564RT48        17564     30-07-22      31-07-22   \n",
       "134588   Jul312217564RT49        17564     29-07-22      31-07-22   \n",
       "134589  Jul312217564RT410        17564     31-07-22      31-07-22   \n",
       "\n",
       "       checkout_date  no_guests room_category booking_platform  ratings_given  \\\n",
       "1           2/5/2022        2.0           RT1           others            NaN   \n",
       "2           4/5/2022        2.0           RT1          logtrip            5.0   \n",
       "4           2/5/2022        4.0           RT1    direct online            5.0   \n",
       "5           3/5/2022        2.0           RT1           others            4.0   \n",
       "6           6/5/2022        2.0           RT1           others            NaN   \n",
       "...              ...        ...           ...              ...            ...   \n",
       "134584      1/8/2022        2.0           RT4           others            2.0   \n",
       "134585      3/8/2022        1.0           RT4     makeyourtrip            2.0   \n",
       "134587      2/8/2022        1.0           RT4         tripster            NaN   \n",
       "134588      1/8/2022        2.0           RT4          logtrip            2.0   \n",
       "134589      1/8/2022        2.0           RT4     makeyourtrip            NaN   \n",
       "\n",
       "       booking_status  revenue_generated  revenue_realized  \n",
       "1           Cancelled               9100              3640  \n",
       "2         Checked Out            9100000              9100  \n",
       "4         Checked Out              10920             10920  \n",
       "5         Checked Out               9100              9100  \n",
       "6           Cancelled               9100              3640  \n",
       "...               ...                ...               ...  \n",
       "134584    Checked Out              32300             32300  \n",
       "134585    Checked Out              32300             32300  \n",
       "134587      Cancelled              32300             12920  \n",
       "134588    Checked Out              32300             32300  \n",
       "134589      Cancelled              32300             12920  \n",
       "\n",
       "[134578 rows x 12 columns]"
      ]
     },
     "execution_count": 38,
     "metadata": {},
     "output_type": "execute_result"
    }
   ],
   "source": [
    "df_bookings[df_bookings.no_guests>0]"
   ]
  },
  {
   "cell_type": "code",
   "execution_count": 39,
   "id": "d74ede8a-3c72-4f95-9fe3-7994ec95c8d3",
   "metadata": {},
   "outputs": [],
   "source": [
    "df_bookings=df_bookings[df_bookings.no_guests>0]"
   ]
  },
  {
   "cell_type": "code",
   "execution_count": 41,
   "id": "b9ec80c5-417b-4181-a5e1-c782dbc85d29",
   "metadata": {},
   "outputs": [
    {
     "data": {
      "text/plain": [
       "(134578, 12)"
      ]
     },
     "execution_count": 41,
     "metadata": {},
     "output_type": "execute_result"
    }
   ],
   "source": [
    "df_bookings.shape"
   ]
  },
  {
   "cell_type": "code",
   "execution_count": 43,
   "id": "d4807e19-48aa-4ec8-9641-78f5bd43ec8b",
   "metadata": {},
   "outputs": [
    {
     "data": {
      "text/plain": [
       "(6500, 28560000)"
      ]
     },
     "execution_count": 43,
     "metadata": {},
     "output_type": "execute_result"
    }
   ],
   "source": [
    "df_bookings.revenue_generated.min(),df_bookings.revenue_generated.max()"
   ]
  },
  {
   "cell_type": "markdown",
   "id": "719610f6-41b1-4e0a-a533-753324f1526a",
   "metadata": {},
   "source": [
    "#### max. revenue generated shown here is too large, hence needs to be corrected"
   ]
  },
  {
   "cell_type": "markdown",
   "id": "afb540e0-d97e-4e63-b300-d0fa4d194141",
   "metadata": {},
   "source": [
    "#### to remove outliners , the value three times standard deviation can be removed"
   ]
  },
  {
   "cell_type": "code",
   "execution_count": 47,
   "id": "5b9e9e27-8fab-4428-bfb1-82d80cec780f",
   "metadata": {},
   "outputs": [],
   "source": [
    "avg, std = df_bookings.revenue_generated.mean(),df_bookings.revenue_generated.std()"
   ]
  },
  {
   "cell_type": "code",
   "execution_count": 48,
   "id": "2aa9ed1b-d629-4a67-a03f-176b605d2858",
   "metadata": {},
   "outputs": [
    {
     "data": {
      "text/plain": [
       "(15378.036937686695, 93040.1549314641)"
      ]
     },
     "execution_count": 48,
     "metadata": {},
     "output_type": "execute_result"
    }
   ],
   "source": [
    "avg, std"
   ]
  },
  {
   "cell_type": "code",
   "execution_count": 50,
   "id": "484152e1-0009-47fa-a1ef-b9c7f558d0fd",
   "metadata": {},
   "outputs": [],
   "source": [
    "higher_limit= avg+3*std"
   ]
  },
  {
   "cell_type": "code",
   "execution_count": 51,
   "id": "1f8dcf51-d145-4b6f-8279-3b496c15b057",
   "metadata": {
    "scrolled": true
   },
   "outputs": [
    {
     "data": {
      "text/plain": [
       "294498.50173207896"
      ]
     },
     "execution_count": 51,
     "metadata": {},
     "output_type": "execute_result"
    }
   ],
   "source": [
    " higher_limit"
   ]
  },
  {
   "cell_type": "code",
   "execution_count": 52,
   "id": "9077b773-3d0c-47c4-a2cc-66285f1cd039",
   "metadata": {},
   "outputs": [
    {
     "data": {
      "text/plain": [
       "-263742.4278567056"
      ]
     },
     "execution_count": 52,
     "metadata": {},
     "output_type": "execute_result"
    }
   ],
   "source": [
    "lower_limit=avg-3*std\n",
    "lower_limit"
   ]
  },
  {
   "cell_type": "code",
   "execution_count": 55,
   "id": "3adf07fe-1e70-49d1-9f46-5d074cd9ccb7",
   "metadata": {},
   "outputs": [
    {
     "data": {
      "text/html": [
       "<div>\n",
       "<style scoped>\n",
       "    .dataframe tbody tr th:only-of-type {\n",
       "        vertical-align: middle;\n",
       "    }\n",
       "\n",
       "    .dataframe tbody tr th {\n",
       "        vertical-align: top;\n",
       "    }\n",
       "\n",
       "    .dataframe thead th {\n",
       "        text-align: right;\n",
       "    }\n",
       "</style>\n",
       "<table border=\"1\" class=\"dataframe\">\n",
       "  <thead>\n",
       "    <tr style=\"text-align: right;\">\n",
       "      <th></th>\n",
       "      <th>booking_id</th>\n",
       "      <th>property_id</th>\n",
       "      <th>booking_date</th>\n",
       "      <th>check_in_date</th>\n",
       "      <th>checkout_date</th>\n",
       "      <th>no_guests</th>\n",
       "      <th>room_category</th>\n",
       "      <th>booking_platform</th>\n",
       "      <th>ratings_given</th>\n",
       "      <th>booking_status</th>\n",
       "      <th>revenue_generated</th>\n",
       "      <th>revenue_realized</th>\n",
       "    </tr>\n",
       "  </thead>\n",
       "  <tbody>\n",
       "    <tr>\n",
       "      <th>2</th>\n",
       "      <td>May012216558RT13</td>\n",
       "      <td>16558</td>\n",
       "      <td>28-04-22</td>\n",
       "      <td>1/5/2022</td>\n",
       "      <td>4/5/2022</td>\n",
       "      <td>2.0</td>\n",
       "      <td>RT1</td>\n",
       "      <td>logtrip</td>\n",
       "      <td>5.0</td>\n",
       "      <td>Checked Out</td>\n",
       "      <td>9100000</td>\n",
       "      <td>9100</td>\n",
       "    </tr>\n",
       "    <tr>\n",
       "      <th>111</th>\n",
       "      <td>May012216559RT32</td>\n",
       "      <td>16559</td>\n",
       "      <td>29-04-22</td>\n",
       "      <td>1/5/2022</td>\n",
       "      <td>2/5/2022</td>\n",
       "      <td>6.0</td>\n",
       "      <td>RT3</td>\n",
       "      <td>direct online</td>\n",
       "      <td>NaN</td>\n",
       "      <td>Checked Out</td>\n",
       "      <td>28560000</td>\n",
       "      <td>28560</td>\n",
       "    </tr>\n",
       "    <tr>\n",
       "      <th>315</th>\n",
       "      <td>May012216562RT22</td>\n",
       "      <td>16562</td>\n",
       "      <td>28-04-22</td>\n",
       "      <td>1/5/2022</td>\n",
       "      <td>4/5/2022</td>\n",
       "      <td>2.0</td>\n",
       "      <td>RT2</td>\n",
       "      <td>direct offline</td>\n",
       "      <td>3.0</td>\n",
       "      <td>Checked Out</td>\n",
       "      <td>12600000</td>\n",
       "      <td>12600</td>\n",
       "    </tr>\n",
       "    <tr>\n",
       "      <th>562</th>\n",
       "      <td>May012217559RT118</td>\n",
       "      <td>17559</td>\n",
       "      <td>26-04-22</td>\n",
       "      <td>1/5/2022</td>\n",
       "      <td>2/5/2022</td>\n",
       "      <td>2.0</td>\n",
       "      <td>RT1</td>\n",
       "      <td>others</td>\n",
       "      <td>NaN</td>\n",
       "      <td>Cancelled</td>\n",
       "      <td>2000000</td>\n",
       "      <td>4420</td>\n",
       "    </tr>\n",
       "    <tr>\n",
       "      <th>129176</th>\n",
       "      <td>Jul282216562RT26</td>\n",
       "      <td>16562</td>\n",
       "      <td>21-07-22</td>\n",
       "      <td>28-07-22</td>\n",
       "      <td>29-07-22</td>\n",
       "      <td>2.0</td>\n",
       "      <td>RT2</td>\n",
       "      <td>direct online</td>\n",
       "      <td>3.0</td>\n",
       "      <td>Checked Out</td>\n",
       "      <td>10000000</td>\n",
       "      <td>12600</td>\n",
       "    </tr>\n",
       "  </tbody>\n",
       "</table>\n",
       "</div>"
      ],
      "text/plain": [
       "               booking_id  property_id booking_date check_in_date  \\\n",
       "2        May012216558RT13        16558     28-04-22      1/5/2022   \n",
       "111      May012216559RT32        16559     29-04-22      1/5/2022   \n",
       "315      May012216562RT22        16562     28-04-22      1/5/2022   \n",
       "562     May012217559RT118        17559     26-04-22      1/5/2022   \n",
       "129176   Jul282216562RT26        16562     21-07-22      28-07-22   \n",
       "\n",
       "       checkout_date  no_guests room_category booking_platform  ratings_given  \\\n",
       "2           4/5/2022        2.0           RT1          logtrip            5.0   \n",
       "111         2/5/2022        6.0           RT3    direct online            NaN   \n",
       "315         4/5/2022        2.0           RT2   direct offline            3.0   \n",
       "562         2/5/2022        2.0           RT1           others            NaN   \n",
       "129176      29-07-22        2.0           RT2    direct online            3.0   \n",
       "\n",
       "       booking_status  revenue_generated  revenue_realized  \n",
       "2         Checked Out            9100000              9100  \n",
       "111       Checked Out           28560000             28560  \n",
       "315       Checked Out           12600000             12600  \n",
       "562         Cancelled            2000000              4420  \n",
       "129176    Checked Out           10000000             12600  "
      ]
     },
     "execution_count": 55,
     "metadata": {},
     "output_type": "execute_result"
    }
   ],
   "source": [
    "df_bookings[df_bookings.revenue_generated>higher_limit]"
   ]
  },
  {
   "cell_type": "code",
   "execution_count": null,
   "id": "fbe5e8a9-fdd7-46da-a244-d9de510c6062",
   "metadata": {},
   "outputs": [],
   "source": []
  },
  {
   "cell_type": "code",
   "execution_count": null,
   "id": "0728aa87-4e27-4cb9-9ff1-65754053028a",
   "metadata": {},
   "outputs": [],
   "source": []
  },
  {
   "cell_type": "code",
   "execution_count": null,
   "id": "99210437-2341-4170-bffd-b4b3710404bd",
   "metadata": {},
   "outputs": [],
   "source": []
  }
 ],
 "metadata": {
  "kernelspec": {
   "display_name": "Python 3 (ipykernel)",
   "language": "python",
   "name": "python3"
  },
  "language_info": {
   "codemirror_mode": {
    "name": "ipython",
    "version": 3
   },
   "file_extension": ".py",
   "mimetype": "text/x-python",
   "name": "python",
   "nbconvert_exporter": "python",
   "pygments_lexer": "ipython3",
   "version": "3.12.1"
  }
 },
 "nbformat": 4,
 "nbformat_minor": 5
}
